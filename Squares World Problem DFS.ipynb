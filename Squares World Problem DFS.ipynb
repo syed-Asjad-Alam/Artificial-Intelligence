{
 "cells": [
  {
   "cell_type": "code",
   "execution_count": 41,
   "metadata": {},
   "outputs": [
    {
     "name": "stdout",
     "output_type": "stream",
     "text": [
      "Following is DFS from (starting from vertex 2)\n",
      "2 0 1 3 "
     ]
    }
   ],
   "source": [
    "# Python3 program to print DFS traversal\n",
    "# from a given given graph\n",
    "from collections import defaultdict\n",
    " \n",
    "# This class represents a directed graph using\n",
    "# adjacency list representation\n",
    " \n",
    " \n",
    "class Graph:\n",
    " \n",
    "    # Constructor\n",
    "    def __init__(self):\n",
    " \n",
    "        # default dictionary to store graph\n",
    "        self.graph = defaultdict(list)\n",
    " \n",
    "    # function to add an edge to graph\n",
    "    def addEdge(self, u, v):\n",
    "        self.graph[u].append(v)\n",
    " \n",
    "    # A function used by DFS\n",
    "    def DFSUtil(self, v, visited):\n",
    " \n",
    "        # Mark the current node as visited\n",
    "        # and print it\n",
    "        visited.add(v)\n",
    "        print(v, end=' ')\n",
    " \n",
    "        # Recur for all the vertices\n",
    "        # adjacent to this vertex\n",
    "        for neighbour in self.graph[v]:\n",
    "            if neighbour not in visited:\n",
    "                self.DFSUtil(neighbour, visited)\n",
    " \n",
    "    # The function to do DFS traversal. It uses\n",
    "    # recursive DFSUtil()\n",
    "    def DFS(self, v):\n",
    " \n",
    "        # Create a set to store visited vertices\n",
    "        visited = set()\n",
    " \n",
    "        # Call the recursive helper function\n",
    "        # to print DFS traversal\n",
    "        self.DFSUtil(v, visited)\n",
    " \n",
    "# Driver code\n",
    " \n",
    " \n",
    "# Create a graph given\n",
    "# in the above diagram\n",
    "g = Graph()\n",
    "g.addEdge(0, 1)\n",
    "g.addEdge(0, 2)\n",
    "g.addEdge(1, 2)\n",
    "g.addEdge(2, 0)\n",
    "g.addEdge(2, 3)\n",
    "g.addEdge(3, 3)\n",
    " \n",
    "print(\"Following is DFS from (starting from vertex 2)\")\n",
    "g.DFS(2)"
   ]
  },
  {
   "cell_type": "code",
   "execution_count": 72,
   "metadata": {},
   "outputs": [
    {
     "name": "stdout",
     "output_type": "stream",
     "text": [
      "1 2 4 Reached Goal state\n"
     ]
    }
   ],
   "source": [
    "def get_graph():\n",
    "    graph = {1:[2,3],2:[4,5,6]}\n",
    "    return(graph)\n",
    "def get_content():\n",
    "    content = {1:[['0','A','0'],\n",
    "           ['0','B','C']],\n",
    "        2:[['0','0','0'],\n",
    "           ['A','B','C']],\n",
    "        3:[['0','A','0'],\n",
    "           ['B','C','0']],\n",
    "        4:[['0','C','0'],\n",
    "           ['A','B','0']],\n",
    "        5:[['0','0','B'],\n",
    "           ['A','0','C']],\n",
    "        6:[['B','0','0'],\n",
    "           ['A','0','C']]}\n",
    "    return(content)\n",
    "\n",
    "def get_goalstate():\n",
    "    goal_state = [['0','C','0'],\n",
    "              ['A','B','0']]\n",
    "    \n",
    "    return(goal_state)\n",
    "\n",
    "\n",
    "def DFSUtil(state2,visited):\n",
    "    visited.add(state2)\n",
    "    print(state2,end = \" \")\n",
    "    g = get_graph()\n",
    "    goal_state = get_goalstate()\n",
    "    c = get_content()\n",
    "    for neighbour in g[state2]:\n",
    "        more = g.get(neighbour)\n",
    "        if more:\n",
    "            if goal_state == c[neighbour]:\n",
    "                print(\"Reached Goal state\")\n",
    "                break\n",
    "            if neighbour not in visited:\n",
    "                DFSUtil(neighbour,visited)\n",
    "        else:\n",
    "            if goal_state == c[neighbour]:\n",
    "                print(neighbour, end = \" \")\n",
    "                print(\"Reached Goal state\")\n",
    "                break\n",
    "            \n",
    "            \n",
    "       \n",
    "\n",
    "def DFS(state1):\n",
    "    visited = set()\n",
    "    DFSUtil(state1,visited)\n",
    "\n",
    "\n",
    "\n",
    "\n",
    "DFS(1)"
   ]
  },
  {
   "cell_type": "code",
   "execution_count": 64,
   "metadata": {},
   "outputs": [
    {
     "name": "stdout",
     "output_type": "stream",
     "text": [
      "Not found moving on\n",
      "Not found moving on\n",
      "Not found moving on\n",
      "found\n"
     ]
    }
   ],
   "source": [
    "content = {1:[['0','A','0'],\n",
    "           ['0','B','C']],\n",
    "        2:[['0','0','0'],\n",
    "           ['A','B','C']],\n",
    "        3:[['0','A','0'],\n",
    "           ['B','C','0']],\n",
    "        4:[['0','C','0'],\n",
    "           ['A','B','0']],\n",
    "        5:[['0','0','B'],\n",
    "           ['A','0','C']],\n",
    "        6:[['B','0','0'],\n",
    "           ['A','0','C']]}\n",
    "goal_state = [['0','C','0'],\n",
    "              ['A','B','0']]\n",
    "for i in content:\n",
    "    if goal_state == content[i]:\n",
    "        print(\"found\")\n",
    "        break\n",
    "    else:\n",
    "        print(\"Not found moving on\")"
   ]
  },
  {
   "cell_type": "code",
   "execution_count": null,
   "metadata": {},
   "outputs": [],
   "source": []
  }
 ],
 "metadata": {
  "kernelspec": {
   "display_name": "Python 3",
   "language": "python",
   "name": "python3"
  },
  "language_info": {
   "codemirror_mode": {
    "name": "ipython",
    "version": 3
   },
   "file_extension": ".py",
   "mimetype": "text/x-python",
   "name": "python",
   "nbconvert_exporter": "python",
   "pygments_lexer": "ipython3",
   "version": "3.8.5"
  }
 },
 "nbformat": 4,
 "nbformat_minor": 4
}
