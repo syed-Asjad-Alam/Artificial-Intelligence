{
 "cells": [
  {
   "cell_type": "code",
   "execution_count": 41,
   "metadata": {},
   "outputs": [
    {
     "name": "stdout",
     "output_type": "stream",
     "text": [
      "Following is DFS from (starting from vertex 2)\n",
      "2 0 1 3 "
     ]
    }
   ],
   "source": [
    "''''''In Squares World, there are squares and a table big enough to hold all the squares. Each square is on the table or on a single other square. For each square a, either it is clear or it has another unique square b that sits on it. Here we can only pick a single clear square and i) move it from another square onto the table(Figure 1(a)), ii) move it from the table onto another clear square(Figure 1(a)), iii) from a square onto another clear square(Figure 1(b)). In a single move, squares are not allowed to hop over others(Figure 1(c)). In this problem, we assume that there are only three squares with the same size (the edge length is one), A,B and C. Our table is a line and its length is three. Of course, the squares can only stay on the table. Your mission is to use the search methods covered in class and start from the initial state and reach the goal state each described in (Figure 1(d)). When expanding a node in a way results in a cycle, you can ignore that expansion.\n",
    "1.\t[6 Points] Show the search tree for depth-first search. Mark the nodes with the orders they are visited. How many nodes are visited until you reach the goal?\n",
    "2.\t[6 Points] Show the search tree for breadth-first search. Mark the nodes with the orders they are visited. How many nodes are visited? \n",
    "3.\t[6 Points] Show the search tree for A∗ with g(s) being the number of moves so far and h(s) of your own definition. Mark the nodes with the values of f(s) = g(s) + h(s). How many nodes are visited? \n",
    "4.\t[7 Points] Which search method worked the best in this specific problem? Why?\n"
   ]
  },
  {
   "cell_type": "code",
   "execution_count": 72,
   "metadata": {},
   "outputs": [
    {
     "name": "stdout",
     "output_type": "stream",
     "text": [
      "1 2 4 Reached Goal state\n"
     ]
    }
   ],
   "source": [
    "def get_graph():\n",
    "    graph = {1:[2,3],2:[4,5,6]}\n",
    "    return(graph)\n",
    "def get_content():\n",
    "    content = {1:[['0','A','0'],\n",
    "           ['0','B','C']],\n",
    "        2:[['0','0','0'],\n",
    "           ['A','B','C']],\n",
    "        3:[['0','A','0'],\n",
    "           ['B','C','0']],\n",
    "        4:[['0','C','0'],\n",
    "           ['A','B','0']],\n",
    "        5:[['0','0','B'],\n",
    "           ['A','0','C']],\n",
    "        6:[['B','0','0'],\n",
    "           ['A','0','C']]}\n",
    "    return(content)\n",
    "\n",
    "def get_goalstate():\n",
    "    goal_state = [['0','C','0'],\n",
    "              ['A','B','0']]\n",
    "    \n",
    "    return(goal_state)\n",
    "\n",
    "\n",
    "def DFSUtil(state2,visited):\n",
    "    visited.add(state2)\n",
    "    print(state2,end = \" \")\n",
    "    g = get_graph()\n",
    "    goal_state = get_goalstate()\n",
    "    c = get_content()\n",
    "    for neighbour in g[state2]:\n",
    "        more = g.get(neighbour)\n",
    "        if more:\n",
    "            if goal_state == c[neighbour]:\n",
    "                print(\"Reached Goal state\")\n",
    "                break\n",
    "            if neighbour not in visited:\n",
    "                DFSUtil(neighbour,visited)\n",
    "        else:\n",
    "            if goal_state == c[neighbour]:\n",
    "                print(neighbour, end = \" \")\n",
    "                print(\"Reached Goal state\")\n",
    "                break\n",
    "            \n",
    "            \n",
    "       \n",
    "\n",
    "def DFS(state1):\n",
    "    visited = set()\n",
    "    DFSUtil(state1,visited)\n",
    "\n",
    "\n",
    "\n",
    "\n",
    "DFS(1)"
   ]
  },
  {
   "cell_type": "code",
   "execution_count": 64,
   "metadata": {},
   "outputs": [
    {
     "name": "stdout",
     "output_type": "stream",
     "text": [
      "Not found moving on\n",
      "Not found moving on\n",
      "Not found moving on\n",
      "found\n"
     ]
    }
   ],
   "source": [
    "content = {1:[['0','A','0'],\n",
    "           ['0','B','C']],\n",
    "        2:[['0','0','0'],\n",
    "           ['A','B','C']],\n",
    "        3:[['0','A','0'],\n",
    "           ['B','C','0']],\n",
    "        4:[['0','C','0'],\n",
    "           ['A','B','0']],\n",
    "        5:[['0','0','B'],\n",
    "           ['A','0','C']],\n",
    "        6:[['B','0','0'],\n",
    "           ['A','0','C']]}\n",
    "goal_state = [['0','C','0'],\n",
    "              ['A','B','0']]\n",
    "for i in content:\n",
    "    if goal_state == content[i]:\n",
    "        print(\"found\")\n",
    "        break\n",
    "    else:\n",
    "        print(\"Not found moving on\")"
   ]
  },
  {
   "cell_type": "code",
   "execution_count": null,
   "metadata": {},
   "outputs": [],
   "source": []
  }
 ],
 "metadata": {
  "kernelspec": {
   "display_name": "Python 3",
   "language": "python",
   "name": "python3"
  },
  "language_info": {
   "codemirror_mode": {
    "name": "ipython",
    "version": 3
   },
   "file_extension": ".py",
   "mimetype": "text/x-python",
   "name": "python",
   "nbconvert_exporter": "python",
   "pygments_lexer": "ipython3",
   "version": "3.8.5"
  }
 },
 "nbformat": 4,
 "nbformat_minor": 4
}
